{
 "cells": [
  {
   "cell_type": "code",
   "execution_count": 1,
   "metadata": {},
   "outputs": [],
   "source": [
    "# Merge Friends scenes into Corpus\n",
    "\n",
    "import os\n",
    "ROOT_FOLDER = \"./friends_scenes\"\n",
    "\n",
    "def get_scenes():\n",
    "    scenes = []\n",
    "    for root, dirs, files in os.walk(ROOT_FOLDER):\n",
    "        for file in files:\n",
    "            if file.endswith(\".txt\"):\n",
    "                scenes.append(os.path.join(root, file))\n",
    "    return scenes\n",
    "\n",
    "def merge_scenes(scenes):\n",
    "    corpus = \"\"\n",
    "    for scene in scenes:\n",
    "        corpus += \"\\n\\n\"\n",
    "        with open(scene, \"r\") as f:\n",
    "            corpus += f.read()\n",
    "    return corpus\n",
    "\n",
    "def save_corpus(corpus):\n",
    "    with open(\"friends_corpus.txt\", \"w\") as f:\n",
    "        f.write(corpus)\n",
    "\n",
    "scenes = get_scenes()\n",
    "corpus = merge_scenes(scenes)\n",
    "save_corpus(corpus)"
   ]
  },
  {
   "cell_type": "code",
   "execution_count": null,
   "metadata": {},
   "outputs": [],
   "source": []
  }
 ],
 "metadata": {
  "kernelspec": {
   "display_name": "coding",
   "language": "python",
   "name": "python3"
  },
  "language_info": {
   "codemirror_mode": {
    "name": "ipython",
    "version": 3
   },
   "file_extension": ".py",
   "mimetype": "text/x-python",
   "name": "python",
   "nbconvert_exporter": "python",
   "pygments_lexer": "ipython3",
   "version": "3.8.12"
  }
 },
 "nbformat": 4,
 "nbformat_minor": 2
}
