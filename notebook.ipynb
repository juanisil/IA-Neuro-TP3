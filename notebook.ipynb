{
 "cells": [
  {
   "cell_type": "code",
   "execution_count": 17,
   "metadata": {},
   "outputs": [
    {
     "name": "stdout",
     "output_type": "stream",
     "text": [
      "The autoreload extension is already loaded. To reload it, use:\n",
      "  %reload_ext autoreload\n"
     ]
    }
   ],
   "source": [
    "%load_ext autoreload\n",
    "%autoreload 2"
   ]
  },
  {
   "cell_type": "code",
   "execution_count": 18,
   "metadata": {},
   "outputs": [],
   "source": [
    "from ngrams import corpus_from_file, Ngram"
   ]
  },
  {
   "cell_type": "markdown",
   "metadata": {},
   "source": [
    "### Crear y fitear modelo"
   ]
  },
  {
   "cell_type": "code",
   "execution_count": 40,
   "metadata": {},
   "outputs": [],
   "source": [
    "ngram = Ngram(6)\n",
    "corpus = corpus_from_file(\"corpus.txt\")\n",
    "ngram.fit(corpus)"
   ]
  },
  {
   "cell_type": "markdown",
   "metadata": {},
   "source": [
    "### Generar texto"
   ]
  },
  {
   "cell_type": "code",
   "execution_count": 44,
   "metadata": {},
   "outputs": [
    {
     "data": {
      "text/plain": [
       "'coffee. claire is a professional waitress.\\n '"
      ]
     },
     "execution_count": 44,
     "metadata": {},
     "output_type": "execute_result"
    }
   ],
   "source": [
    "ngram.generate(context=\"JERRY: Can you relax, it's a cup of\", temperature=0.9)"
   ]
  },
  {
   "cell_type": "markdown",
   "metadata": {},
   "source": [
    "### _TODO_: Evaluación del modelo "
   ]
  },
  {
   "cell_type": "code",
   "execution_count": 7,
   "metadata": {},
   "outputs": [
    {
     "name": "stdout",
     "output_type": "stream",
     "text": [
      "1.614710495147288e-09\n"
     ]
    }
   ],
   "source": [
    "from sklearn.model_selection import train_test_split\n",
    "\n",
    "train, test = train_test_split(corpus, test_size=0.2, random_state=42, shuffle=True)\n",
    "ngram.fit(train)\n",
    "\n",
    "print(ngram.perplexity(test))"
   ]
  },
  {
   "cell_type": "code",
   "execution_count": 8,
   "metadata": {},
   "outputs": [
    {
     "data": {
      "text/plain": [
       "\"KRAMER: Oh, yeah yeah, I have to. I'm your fiancé, Peter Von Nostrand.\\n\""
      ]
     },
     "execution_count": 8,
     "metadata": {},
     "output_type": "execute_result"
    }
   ],
   "source": [
    "test[11]"
   ]
  },
  {
   "cell_type": "code",
   "execution_count": 9,
   "metadata": {},
   "outputs": [],
   "source": [
    "from matplotlib import pyplot as plt"
   ]
  },
  {
   "cell_type": "markdown",
   "metadata": {},
   "source": [
    "## Experimentación"
   ]
  },
  {
   "cell_type": "code",
   "execution_count": 21,
   "metadata": {},
   "outputs": [
    {
     "name": "stderr",
     "output_type": "stream",
     "text": [
      "100%|██████████| 51934/51934 [00:00<00:00, 123415.56it/s]\n"
     ]
    },
    {
     "name": "stdout",
     "output_type": "stream",
     "text": [
      "Creating frequency table\n",
      "Flattening n-grams\n",
      "Creating vocabulary\n",
      "Vocabulary size: 53168\n",
      "Number of n-grams: 53168\n",
      "Creating frequency table\n"
     ]
    },
    {
     "name": "stderr",
     "output_type": "stream",
     "text": [
      "630233it [00:00, 1707175.47it/s]\n",
      "100%|██████████| 51934/51934 [00:00<00:00, 148158.94it/s]\n"
     ]
    },
    {
     "name": "stdout",
     "output_type": "stream",
     "text": [
      "Creating frequency table\n",
      "Flattening n-grams\n",
      "Creating vocabulary\n",
      "Vocabulary size: 246732\n",
      "Number of n-grams: 246732\n",
      "Creating frequency table\n"
     ]
    },
    {
     "name": "stderr",
     "output_type": "stream",
     "text": [
      "630233it [00:00, 971584.43it/s] \n",
      "100%|██████████| 51934/51934 [00:00<00:00, 219316.80it/s]\n"
     ]
    },
    {
     "name": "stdout",
     "output_type": "stream",
     "text": [
      "Creating frequency table\n",
      "Flattening n-grams\n",
      "Creating vocabulary\n",
      "Vocabulary size: 425484\n",
      "Number of n-grams: 425484\n",
      "Creating frequency table\n"
     ]
    },
    {
     "name": "stderr",
     "output_type": "stream",
     "text": [
      "630233it [00:00, 760896.31it/s]\n",
      "100%|██████████| 51934/51934 [00:00<00:00, 159679.64it/s]\n"
     ]
    },
    {
     "name": "stdout",
     "output_type": "stream",
     "text": [
      "Creating frequency table\n",
      "Flattening n-grams\n",
      "Creating vocabulary\n",
      "Vocabulary size: 497867\n",
      "Number of n-grams: 497867\n",
      "Creating frequency table\n"
     ]
    },
    {
     "name": "stderr",
     "output_type": "stream",
     "text": [
      "630233it [00:00, 783245.80it/s]\n",
      "100%|██████████| 51934/51934 [00:00<00:00, 145874.23it/s]\n"
     ]
    },
    {
     "name": "stdout",
     "output_type": "stream",
     "text": [
      "Creating frequency table\n",
      "Flattening n-grams\n",
      "Creating vocabulary\n",
      "Vocabulary size: 517539\n",
      "Number of n-grams: 517539\n",
      "Creating frequency table\n"
     ]
    },
    {
     "name": "stderr",
     "output_type": "stream",
     "text": [
      "630233it [00:00, 742547.05it/s]\n"
     ]
    },
    {
     "data": {
      "image/png": "[encoded data removed]",
      "text/plain": [
       "<Figure size 640x480 with 1 Axes>"
      ]
     },
     "metadata": {},
     "output_type": "display_data"
    }
   ],
   "source": [
    "# ¿Como es la calidad de los textos generados, a medida que aumentan n y/o la cantidad de datos de entrenamiento? ¿Que tipos de errores seproducen?\n",
    "\n",
    "ppls = []\n",
    "for i in range(1, 6):\n",
    "    ngram = Ngram(i)\n",
    "    ngram.fit(train)\n",
    "    ppls.append(ngram.perplexity(test))\n",
    "\n",
    "fig, ax = plt.subplots()\n",
    "ax.plot(range(1, 6), ppls)\n",
    "ax.set_xlabel(\"N\")\n",
    "ax.set_ylabel(\"Perplexity\")\n",
    "plt.show()"
   ]
  },
  {
   "cell_type": "markdown",
   "metadata": {},
   "source": [
    "## Generación"
   ]
  },
  {
   "cell_type": "code",
   "execution_count": null,
   "metadata": {},
   "outputs": [],
   "source": []
  }
 ],
 "metadata": {
  "kernelspec": {
   "display_name": "metodos",
   "language": "python",
   "name": "python3"
  },
  "language_info": {
   "codemirror_mode": {
    "name": "ipython",
    "version": 3
   },
   "file_extension": ".py",
   "mimetype": "text/x-python",
   "name": "python",
   "nbconvert_exporter": "python",
   "pygments_lexer": "ipython3",
   "version": "3.10.9"
  }
 },
 "nbformat": 4,
 "nbformat_minor": 2
}
