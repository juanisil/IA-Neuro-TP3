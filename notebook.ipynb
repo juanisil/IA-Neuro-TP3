{
 "cells": [
  {
   "cell_type": "code",
   "execution_count": 1,
   "metadata": {},
   "outputs": [],
   "source": [
    "%load_ext autoreload\n",
    "%autoreload 2"
   ]
  },
  {
   "cell_type": "code",
   "execution_count": 2,
   "metadata": {},
   "outputs": [],
   "source": [
    "from ngrams import corpus_from_file, Ngram"
   ]
  },
  {
   "cell_type": "code",
   "execution_count": 3,
   "metadata": {},
   "outputs": [
    {
     "name": "stderr",
     "output_type": "stream",
     "text": [
      "100%|██████████| 64918/64918 [00:00<00:00, 130736.75it/s]\n"
     ]
    },
    {
     "name": "stdout",
     "output_type": "stream",
     "text": [
      "Creating frequency table\n",
      "Flattening n-grams\n",
      "Creating vocabulary\n",
      "Vocabulary size: 519187\n",
      "Number of n-grams: 519187\n",
      "Creating frequency table\n"
     ]
    },
    {
     "name": "stderr",
     "output_type": "stream",
     "text": [
      "788813it [00:00, 819826.14it/s]\n"
     ]
    }
   ],
   "source": [
    "ngram = Ngram(3)\n",
    "corpus = corpus_from_file(\"corpus.txt\")\n",
    "ngram.fit(corpus)"
   ]
  },
  {
   "cell_type": "code",
   "execution_count": 8,
   "metadata": {},
   "outputs": [
    {
     "data": {
      "text/plain": [
       "['<s>', '<s>', 'mr.', 'seinfeld.', 'mr.', '</s>']"
      ]
     },
     "execution_count": 8,
     "metadata": {},
     "output_type": "execute_result"
    }
   ],
   "source": [
    "ngram.tokenize(\"Mr. Seinfeld. Mr.\")"
   ]
  },
  {
   "cell_type": "code",
   "execution_count": null,
   "metadata": {},
   "outputs": [
    {
     "name": "stdout",
     "output_type": "stream",
     "text": [
      "['<s>', '<s>', 'mr.', 'seinfeld.', 'mr.']\n",
      "('seinfeld.', 'mr.')\n",
      "costanza.\n",
      "\n"
     ]
    }
   ],
   "source": [
    "print(ngram.predict(\"Mr. Seinfeld. Mr.\"))"
   ]
  },
  {
   "cell_type": "code",
   "execution_count": 11,
   "metadata": {},
   "outputs": [
    {
     "name": "stdout",
     "output_type": "stream",
     "text": [
      "['<s>', '<s>', 'jerry:', 'can', 'you', 'relax,', \"it's\", 'a', 'cup', 'of']\n",
      "('cup', 'of')\n",
      "coffee\n"
     ]
    }
   ],
   "source": [
    "print(ngram.predict(\"JERRY: Can you relax, it's a cup of\"))"
   ]
  },
  {
   "cell_type": "code",
   "execution_count": 13,
   "metadata": {},
   "outputs": [
    {
     "name": "stderr",
     "output_type": "stream",
     "text": [
      "100%|██████████| 51934/51934 [00:00<00:00, 140321.97it/s]\n"
     ]
    },
    {
     "name": "stdout",
     "output_type": "stream",
     "text": [
      "Creating frequency table\n",
      "Flattening n-grams\n",
      "Creating vocabulary\n",
      "Vocabulary size: 425484\n",
      "Number of n-grams: 425484\n",
      "Creating frequency table\n"
     ]
    },
    {
     "name": "stderr",
     "output_type": "stream",
     "text": [
      "630233it [00:00, 738833.47it/s]\n"
     ]
    },
    {
     "name": "stdout",
     "output_type": "stream",
     "text": [
      "1.614710495147288e-09\n"
     ]
    }
   ],
   "source": [
    "from sklearn.model_selection import train_test_split\n",
    "\n",
    "train, test = train_test_split(corpus, test_size=0.2, random_state=42, shuffle=True)\n",
    "ngram.fit(train)\n",
    "\n",
    "print(ngram.perplexity(test))"
   ]
  },
  {
   "cell_type": "code",
   "execution_count": 19,
   "metadata": {},
   "outputs": [
    {
     "data": {
      "text/plain": [
       "\"KRAMER: Oh, yeah yeah, I have to. I'm your fiancé, Peter Von Nostrand.\\n\""
      ]
     },
     "execution_count": 19,
     "metadata": {},
     "output_type": "execute_result"
    }
   ],
   "source": [
    "test[11]"
   ]
  },
  {
   "cell_type": "code",
   "execution_count": null,
   "metadata": {},
   "outputs": [],
   "source": [
    "# ¿Como es la calidad de los textos generados, a medida que aumentan n y/o la cantidad de datos de entrenamiento? ¿Que tipos de errores seproducen?"
   ]
  }
 ],
 "metadata": {
  "kernelspec": {
   "display_name": "coding",
   "language": "python",
   "name": "python3"
  },
  "language_info": {
   "codemirror_mode": {
    "name": "ipython",
    "version": 3
   },
   "file_extension": ".py",
   "mimetype": "text/x-python",
   "name": "python",
   "nbconvert_exporter": "python",
   "pygments_lexer": "ipython3",
   "version": "3.8.12"
  }
 },
 "nbformat": 4,
 "nbformat_minor": 2
}
